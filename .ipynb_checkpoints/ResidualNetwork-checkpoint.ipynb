{
 "cells": [
  {
   "cell_type": "code",
   "execution_count": 6,
   "id": "e33f6856",
   "metadata": {},
   "outputs": [
    {
     "name": "stdout",
     "output_type": "stream",
     "text": [
      "WARNING:tensorflow:From <ipython-input-6-75511c64fe84>:17: set_learning_phase (from tensorflow.python.keras.backend) is deprecated and will be removed after 2020-10-11.\n",
      "Instructions for updating:\n",
      "Simply pass a True/False value to the `training` argument of the `__call__` method of your layer or model.\n"
     ]
    }
   ],
   "source": [
    "import numpy as np\n",
    "from tensorflow.keras import layers\n",
    "from tensorflow.keras.layers import Input, Add, Dense, Activation, ZeroPadding2D,BatchNormalization, Flatten, Conv2D, AveragePooling2D,MaxPooling2D, GlobalMaxPooling2D\n",
    "from tensorflow.keras.models import Model, load_model\n",
    "from tensorflow.keras.preprocessing import image\n",
    "from tensorflow.python.keras.utils import layer_utils\n",
    "from tensorflow.python.keras.utils.data_utils import get_file\n",
    "from tensorflow.keras.applications.imagenet_utils import preprocess_input\n",
    "from IPython.display import SVG\n",
    "from tensorflow.python.keras.utils.vis_utils import model_to_dot\n",
    "#from tensorflow.python.keras.utils import plot_model\n",
    "from tensorflow.keras.initializers import glorot_uniform\n",
    "import scipy.misc\n",
    "from matplotlib.pyplot import imshow\n",
    "import tensorflow.keras.backend as K\n",
    "K.set_image_data_format('channels_last')\n",
    "K.set_learning_phase(1)"
   ]
  },
  {
   "cell_type": "code",
   "execution_count": 8,
   "id": "38fc237f",
   "metadata": {},
   "outputs": [],
   "source": [
    "def identity_block(X,f,filters,stage,block):\n",
    "    F1,F2,F3=filters\n",
    "    conv_name_base = 'res' + str(stage) + block + '_branch'\n",
    "    bn_name_base = 'bn' + str(stage) + block + '_branch'\n",
    "    X_shortcut=X\n",
    "    X=Conv2D(filters=F1,kernel_size=(1,1),strides=(1,1),padding='valid',name=conv_name_base+'2a',kernel_intializer=glorot_uniform(seed=0))(X)\n",
    "    X=BatchNormalization(axis=3,name=bn_name_base+'2a')(X)\n",
    "    X=Activation('relu')(X)\n",
    "    \n",
    "    X=Conv2D(filters=F2,kernel_size=(f,f),strides=(1,1),padding='same',name=conv_name_base+'2b',kernel_intializer=glorot_uniform(seed=0))(X)\n",
    "    X=BatchNormalization(axis=3,name=bn_name_base+'2b')(X)\n",
    "    X=Activation('relu')(X)\n",
    "    \n",
    "    X=Conv2D(filters=F3,kernel_size=(1,1),strides=(1,1),padding='valid',name=conv_name_base+'2c',kernel_intializer=glorot_uniform(seed=0))(X)\n",
    "    X=BatchNormalization(axis=3,name=bn_name_base+'2c')(X)\n",
    "    X=layers.add([X,X_shortcut])\n",
    "    X=Activation('relu')(X)\n",
    "    return X\n",
    "    "
   ]
  },
  {
   "cell_type": "code",
   "execution_count": 9,
   "id": "f67218ba",
   "metadata": {},
   "outputs": [],
   "source": [
    "def convulation_block(X,f,filters,stage,block,s=2):\n",
    "    F1,F2,F3=filters\n",
    "    conv_name_base = 'res' + str(stage) + block + '_branch'\n",
    "    bn_name_base = 'bn' + str(stage) + block + '_branch'\n",
    "    X_shortcut=X\n",
    "    X=Conv2D(filters=F1,kernel_size=(1,1),strides=(s,s),padding='valid',name=conv_name_base+'2a',kernel_intializer=glorot_uniform(seed=0))(X)\n",
    "    X=BatchNormalization(axis=3,name=bn_name_base+'2a')(X)\n",
    "    X=Activation('relu')(X)\n",
    "    \n",
    "    X=Conv2D(filters=F2,kernel_size=(f,f),strides=(1,1),padding='same',name=conv_name_base+'2b',kernel_intializer=glorot_uniform(seed=0))(X)\n",
    "    X=BatchNormalization(axis=3,name=bn_name_base+'2b')(X)\n",
    "    X=Activation('relu')(X)\n",
    "    \n",
    "    X=Conv2D(filters=F3,kernel_size=(1,1),strides=(1,1),padding='valid',name=conv_name_base+'2c',kernel_intializer=glorot_uniform(seed=0))(X)\n",
    "    X=BatchNormalization(axis=3,name=bn_name_base+'2c')(X)\n",
    "    \n",
    "    X_shortcut=Conv2D(filters=F3,kernel_size=(1,1),strides=(s,s),padding='valid',name=conv_name_base+'2a',kernel_intializer=glorot_uniform(seed=0))(X_shortcut)\n",
    "    X_shortcut=BatchNormalization(axis=3,name=bn_name_base+'2a')(X_shortcut)\n",
    "    X=layers.add([X,X_shortcut])\n",
    "    X=Activation('relu')(X)\n",
    "    return X\n",
    "    "
   ]
  },
  {
   "cell_type": "code",
   "execution_count": null,
   "id": "9d105738",
   "metadata": {},
   "outputs": [],
   "source": []
  }
 ],
 "metadata": {
  "kernelspec": {
   "display_name": "Python 3",
   "language": "python",
   "name": "python3"
  },
  "language_info": {
   "codemirror_mode": {
    "name": "ipython",
    "version": 3
   },
   "file_extension": ".py",
   "mimetype": "text/x-python",
   "name": "python",
   "nbconvert_exporter": "python",
   "pygments_lexer": "ipython3",
   "version": "3.8.8"
  }
 },
 "nbformat": 4,
 "nbformat_minor": 5
}
